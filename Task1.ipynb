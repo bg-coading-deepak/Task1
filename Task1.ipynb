{
 "cells": [
  {
   "cell_type": "markdown",
   "id": "7b95b4d7-7dbe-487a-be9c-b31cabd628b8",
   "metadata": {},
   "source": [
    "Q1. Create a function which will take a list as an argument and return the product of all the numbers\n",
    "after creating a flat list.\n",
    "Use the below-given list as an argument for your function.\n",
    "list1 = [1,2,3,4, [44,55,66, True], False, (34,56,78,89,34), {1,2,3,3,2,1}, {1:34, \"key2\": [55, 67, 78, 89], 4: (45,\n",
    "22, 61, 34)}, [56, 'data science'], 'Machine Learning']\n",
    "Note: you must extract numeric keys and values of the dictionary also."
   ]
  },
  {
   "cell_type": "code",
   "execution_count": 1,
   "id": "094d8f48-7c26-4366-806b-da7e685e1ee8",
   "metadata": {},
   "outputs": [
    {
     "data": {
      "text/plain": [
       "4134711838987085478833841242112000"
      ]
     },
     "execution_count": 1,
     "metadata": {},
     "output_type": "execute_result"
    }
   ],
   "source": [
    "from functools import  reduce\n",
    "lst = [1,2,3,4, [44,55,66, True], False, (34,56,78,89,34), {1,2,3,3,2,1}, {1:34, \"key2\": [55, 67, 78, 89], 4: (45,22, 61, 34)}, [56, 'data science'], 'Machine Learning']\n",
    "def product(lst):\n",
    "    l=[]\n",
    "    for i in lst:\n",
    "        if type(i)==list:\n",
    "            for j in i:\n",
    "                if type(j)==int:\n",
    "                    l.append(j)\n",
    "        elif type(i)==tuple:\n",
    "            for j in i:\n",
    "                if type(j)==int:\n",
    "                    l.append(j)\n",
    "        elif type(i)==set:\n",
    "            for j in i:\n",
    "                if type(j)==int:\n",
    "                    l.append(j)\n",
    "        elif type(i)==dict:\n",
    "            a=i.keys()\n",
    "            b=i.values()\n",
    "            for i in a:\n",
    "                if type(i)==list:\n",
    "                    for j in i:\n",
    "                        if type(j)==int:\n",
    "                            l.append(j)\n",
    "                elif type(i)==tuple:\n",
    "                    for j in i:\n",
    "                        if type(j)==int:\n",
    "                            l.append(j)\n",
    "                elif type(i)==set:\n",
    "                    for j in i:\n",
    "                        if type(j)==int:\n",
    "                            l.append(j)\n",
    "            # elif type(i)==True or type(i) == False:\n",
    "            #     l.append(j)\n",
    "        \n",
    "                else:\n",
    "                    if type(i) ==int:\n",
    "                        l.append(i)            \n",
    "            for i in b:\n",
    "                if type(i)==list:\n",
    "                    for j in i:\n",
    "                        if type(j)==int:\n",
    "                            l.append(j)\n",
    "                elif type(i)==tuple:\n",
    "                    for j in i:\n",
    "                        if type(j)==int:\n",
    "                            l.append(j)\n",
    "                elif type(i)==set:\n",
    "                    for j in i:\n",
    "                        if type(j)==int:\n",
    "                            l.append(j) \n",
    "#             elif type(i)==True or type(i) == False:\n",
    "#                 l.append(j)\n",
    "        \n",
    "                else:\n",
    "                    if type(i) ==int:\n",
    "                        l.append(i)           \n",
    "               \n",
    "        \n",
    "        elif type(i)==True or type(i) == False:\n",
    "            l.append(j)\n",
    "        \n",
    "        else:\n",
    "            if type(i) ==int:\n",
    "                l.append(i)\n",
    "    \n",
    "    \n",
    "    \n",
    "    \n",
    "    return  reduce(lambda x ,y : x*y , l)            \n",
    "product(lst) "
   ]
  },
  {
   "cell_type": "code",
   "execution_count": null,
   "id": "fd5a4f19-0a07-43d8-89b5-e63ff27b5d99",
   "metadata": {},
   "outputs": [],
   "source": [
    "Q2. Write a python program for encrypting a message sent to you by your friend. The logic of encryption\n",
    "should be such that, for a the output should be z. For b, the output should be y. For c, the output should\n",
    "be x respectively. Also, the whitespace should be replaced with a dollar sign. Keep the punctuation\n",
    "marks unchanged.\n",
    "Input Sentence: I want to become a Data Scientist.\n",
    "Encrypt the above input sentence using the program you just created.\n",
    "Note: Convert the given input sentence into lowercase before encrypting. The final output should be\n",
    "lowercase."
   ]
  }
 ],
 "metadata": {
  "kernelspec": {
   "display_name": "Python 3 (ipykernel)",
   "language": "python",
   "name": "python3"
  },
  "language_info": {
   "codemirror_mode": {
    "name": "ipython",
    "version": 3
   },
   "file_extension": ".py",
   "mimetype": "text/x-python",
   "name": "python",
   "nbconvert_exporter": "python",
   "pygments_lexer": "ipython3",
   "version": "3.10.8"
  }
 },
 "nbformat": 4,
 "nbformat_minor": 5
}
